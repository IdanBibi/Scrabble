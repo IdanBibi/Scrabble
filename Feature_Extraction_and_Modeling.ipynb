{
 "cells": [
  {
   "cell_type": "code",
   "execution_count": 37,
   "metadata": {
    "collapsed": true,
    "ExecuteTime": {
     "start_time": "2023-12-04T15:06:25.978438Z",
     "end_time": "2023-12-04T15:06:25.994852Z"
    }
   },
   "outputs": [],
   "source": [
    "import pandas as pd\n",
    "import numpy as np\n",
    "from sklearn.metrics import mean_squared_error\n",
    "from sklearn.model_selection import train_test_split\n",
    "from sklearn.model_selection import KFold\n",
    "from sklearn.preprocessing import LabelEncoder\n",
    "from sklearn.compose import make_column_transformer\n",
    "\n",
    "from sklearn.linear_model import LinearRegression\n",
    "from lightgbm import LGBMRegressor\n",
    "from catboost import CatBoostRegressor\n",
    "from sklearn.ensemble import RandomForestRegressor\n",
    "from tqdm import tqdm"
   ]
  },
  {
   "cell_type": "code",
   "execution_count": 38,
   "outputs": [],
   "source": [
    "games = pd.read_csv(\"data/games.csv\")\n",
    "turns = pd.read_csv(\"data/turns.csv\")\n",
    "train = pd.read_csv(\"data/train.csv\")\n",
    "test = pd.read_csv(\"data/test.csv\")\n",
    "sample_submission = pd.read_csv(\"data/sample_submission.csv\")"
   ],
   "metadata": {
    "collapsed": false,
    "ExecuteTime": {
     "start_time": "2023-12-04T15:06:26.172372Z",
     "end_time": "2023-12-04T15:06:29.004327Z"
    }
   }
  },
  {
   "cell_type": "markdown",
   "source": [
    "# Test Casual Players"
   ],
   "metadata": {
    "collapsed": false
   }
  },
  {
   "cell_type": "code",
   "execution_count": 39,
   "outputs": [
    {
     "data": {
      "text/plain": "81        Eloquent\n451            rcg\n46        Churrrro\n146      Kevin_818\n178         Menonr\n          ...     \n94     HadeefHafiy\n380     groveringu\n293      Tayming05\n295     Thejana123\n489           umar\nName: nickname, Length: 76, dtype: object"
     },
     "execution_count": 39,
     "metadata": {},
     "output_type": "execute_result"
    }
   ],
   "source": [
    "players_only_test = games[games['game_id'].isin(test[~test['nickname'].isin(train['nickname'])]['game_id'])][\n",
    "    ['game_id', 'first', 'rating_mode']]\n",
    "players_only_test = players_only_test.merge(test)[['game_id', 'rating_mode', 'nickname']]\n",
    "amount_of_game_modes_per_user = players_only_test.groupby(['nickname', 'rating_mode']).agg(\n",
    "    amount_of_games=('game_id', 'count')).reset_index()\n",
    "casual_players = \\\n",
    "amount_of_game_modes_per_user.groupby('nickname').filter(lambda x: all(x['rating_mode'] == 'CASUAL')).sort_values(\n",
    "    'amount_of_games', ascending=False)['nickname']\n",
    "casual_players"
   ],
   "metadata": {
    "collapsed": false,
    "ExecuteTime": {
     "start_time": "2023-12-04T15:06:28.992231Z",
     "end_time": "2023-12-04T15:06:29.194956Z"
    }
   }
  },
  {
   "cell_type": "code",
   "execution_count": 89,
   "outputs": [
    {
     "data": {
      "text/plain": "10          28\n28          62\n32          65\n34          68\n54          93\n         ...  \n44657    72700\n44666    72706\n44669    72709\n44693    72741\n44721    72762\nName: game_id, Length: 2707, dtype: int64"
     },
     "execution_count": 89,
     "metadata": {},
     "output_type": "execute_result"
    }
   ],
   "source": [
    "test[test['nickname'].isin(casual_players)]['game_id']"
   ],
   "metadata": {
    "collapsed": false,
    "ExecuteTime": {
     "start_time": "2023-12-04T16:20:40.758750Z",
     "end_time": "2023-12-04T16:20:40.774826Z"
    }
   }
  },
  {
   "cell_type": "code",
   "execution_count": 40,
   "outputs": [
    {
     "data": {
      "text/plain": "0.06052407995349461"
     },
     "execution_count": 40,
     "metadata": {},
     "output_type": "execute_result"
    }
   ],
   "source": [
    "2707 / len(test)"
   ],
   "metadata": {
    "collapsed": false,
    "ExecuteTime": {
     "start_time": "2023-12-04T15:06:29.194956Z",
     "end_time": "2023-12-04T15:06:29.230167Z"
    }
   }
  },
  {
   "cell_type": "markdown",
   "source": [
    "# FE"
   ],
   "metadata": {
    "collapsed": false
   }
  },
  {
   "cell_type": "code",
   "execution_count": 41,
   "outputs": [
    {
     "data": {
      "text/plain": "         game_id  turn_number   nickname     rack location      move  points  \\\n0              1            1  BetterBot  DDEGITT       8G       DIG      10   \n1              1            2      stevy  AEHOPUX       7H       HAP      18   \n2              1            3  BetterBot  DEELTTU       6I      LUTE      16   \n3              1            4      stevy  EMORSUX       5K        UM      16   \n4              1            5  BetterBot  ACDEITU       L5  ..DICATE      28   \n...          ...          ...        ...      ...      ...       ...     ...   \n2005493    72773           22      adola  ABINRRU      15N        IN      18   \n2005494    72773           23   HastyBot   EGHIIP      H12      .HIG      24   \n2005495    72773           24      adola    ABRRU      15E      BRA.       7   \n2005496    72773           25   HastyBot      EIP       7A       PIE      11   \n2005497    72773           26   HastyBot      NaN      NaN      (RU)       4   \n\n         score turn_type  \n0           10      Play  \n1           18      Play  \n2           26      Play  \n3           34      Play  \n4           54      Play  \n...        ...       ...  \n2005493    376      Play  \n2005494    331      Play  \n2005495    383      Play  \n2005496    342      Play  \n2005497    346       End  \n\n[2005498 rows x 9 columns]",
      "text/html": "<div>\n<style scoped>\n    .dataframe tbody tr th:only-of-type {\n        vertical-align: middle;\n    }\n\n    .dataframe tbody tr th {\n        vertical-align: top;\n    }\n\n    .dataframe thead th {\n        text-align: right;\n    }\n</style>\n<table border=\"1\" class=\"dataframe\">\n  <thead>\n    <tr style=\"text-align: right;\">\n      <th></th>\n      <th>game_id</th>\n      <th>turn_number</th>\n      <th>nickname</th>\n      <th>rack</th>\n      <th>location</th>\n      <th>move</th>\n      <th>points</th>\n      <th>score</th>\n      <th>turn_type</th>\n    </tr>\n  </thead>\n  <tbody>\n    <tr>\n      <th>0</th>\n      <td>1</td>\n      <td>1</td>\n      <td>BetterBot</td>\n      <td>DDEGITT</td>\n      <td>8G</td>\n      <td>DIG</td>\n      <td>10</td>\n      <td>10</td>\n      <td>Play</td>\n    </tr>\n    <tr>\n      <th>1</th>\n      <td>1</td>\n      <td>2</td>\n      <td>stevy</td>\n      <td>AEHOPUX</td>\n      <td>7H</td>\n      <td>HAP</td>\n      <td>18</td>\n      <td>18</td>\n      <td>Play</td>\n    </tr>\n    <tr>\n      <th>2</th>\n      <td>1</td>\n      <td>3</td>\n      <td>BetterBot</td>\n      <td>DEELTTU</td>\n      <td>6I</td>\n      <td>LUTE</td>\n      <td>16</td>\n      <td>26</td>\n      <td>Play</td>\n    </tr>\n    <tr>\n      <th>3</th>\n      <td>1</td>\n      <td>4</td>\n      <td>stevy</td>\n      <td>EMORSUX</td>\n      <td>5K</td>\n      <td>UM</td>\n      <td>16</td>\n      <td>34</td>\n      <td>Play</td>\n    </tr>\n    <tr>\n      <th>4</th>\n      <td>1</td>\n      <td>5</td>\n      <td>BetterBot</td>\n      <td>ACDEITU</td>\n      <td>L5</td>\n      <td>..DICATE</td>\n      <td>28</td>\n      <td>54</td>\n      <td>Play</td>\n    </tr>\n    <tr>\n      <th>...</th>\n      <td>...</td>\n      <td>...</td>\n      <td>...</td>\n      <td>...</td>\n      <td>...</td>\n      <td>...</td>\n      <td>...</td>\n      <td>...</td>\n      <td>...</td>\n    </tr>\n    <tr>\n      <th>2005493</th>\n      <td>72773</td>\n      <td>22</td>\n      <td>adola</td>\n      <td>ABINRRU</td>\n      <td>15N</td>\n      <td>IN</td>\n      <td>18</td>\n      <td>376</td>\n      <td>Play</td>\n    </tr>\n    <tr>\n      <th>2005494</th>\n      <td>72773</td>\n      <td>23</td>\n      <td>HastyBot</td>\n      <td>EGHIIP</td>\n      <td>H12</td>\n      <td>.HIG</td>\n      <td>24</td>\n      <td>331</td>\n      <td>Play</td>\n    </tr>\n    <tr>\n      <th>2005495</th>\n      <td>72773</td>\n      <td>24</td>\n      <td>adola</td>\n      <td>ABRRU</td>\n      <td>15E</td>\n      <td>BRA.</td>\n      <td>7</td>\n      <td>383</td>\n      <td>Play</td>\n    </tr>\n    <tr>\n      <th>2005496</th>\n      <td>72773</td>\n      <td>25</td>\n      <td>HastyBot</td>\n      <td>EIP</td>\n      <td>7A</td>\n      <td>PIE</td>\n      <td>11</td>\n      <td>342</td>\n      <td>Play</td>\n    </tr>\n    <tr>\n      <th>2005497</th>\n      <td>72773</td>\n      <td>26</td>\n      <td>HastyBot</td>\n      <td>NaN</td>\n      <td>NaN</td>\n      <td>(RU)</td>\n      <td>4</td>\n      <td>346</td>\n      <td>End</td>\n    </tr>\n  </tbody>\n</table>\n<p>2005498 rows × 9 columns</p>\n</div>"
     },
     "execution_count": 41,
     "metadata": {},
     "output_type": "execute_result"
    }
   ],
   "source": [
    "turns"
   ],
   "metadata": {
    "collapsed": false,
    "ExecuteTime": {
     "start_time": "2023-12-04T15:06:29.212174Z",
     "end_time": "2023-12-04T15:06:29.276936Z"
    }
   }
  },
  {
   "cell_type": "code",
   "execution_count": 198,
   "outputs": [],
   "source": [
    "import re\n",
    "\n",
    "locations = {'letter_x3': ['6B', 'B10', 'F2', 'F6', 'F10', 'F14', 'J2', 'J6', 'J10', 'J14', 'N6', 'N10'],\n",
    "             'letter_x2': ['A4', 'A12', 'C7', 'C9', 'D1', 'D8', 'D15', 'G3', 'G7', 'G9', 'G13', 'H4', 'H12', 'I3', 'I7', 'I9', 'I13', 'L1', 'L8', 'L15', 'M7', 'M9', 'O4', 'O12'],\n",
    "             'word_x3': ['A1', 'H1', 'O1', '8A', 'O8', '15A', 'H15', 'O15'],\n",
    "             'word_x2': ['B2', 'C3', 'D4', 'E5', 'K5', 'L4', 'M3', 'N2', 'B14', 'C13', 'D12', 'E11', 'K11', 'L12', 'M13', 'N14']}\n",
    "\n",
    "\n",
    "def swap_elements(lst):\n",
    "    swapped = []\n",
    "    for element in lst:\n",
    "        # Separate numbers and letters\n",
    "        numbers = ''.join(filter(str.isdigit, element))\n",
    "        letters = ''.join(filter(str.isalpha, element))\n",
    "\n",
    "        # Swap only if the letter is first in the original string\n",
    "        if element[0].isalpha():\n",
    "            swapped_element = numbers + letters\n",
    "        else:\n",
    "            swapped_element = letters + numbers\n",
    "        swapped.append(swapped_element)\n",
    "    return swapped\n",
    "\n",
    "for key in locations.keys():\n",
    "    locations[key] += swap_elements(locations[key])\n",
    "\n",
    "def categorize_location(loc):\n",
    "    for category, loc_list in locations.items():\n",
    "        if loc in loc_list:\n",
    "            return 1\n",
    "    return 0\n",
    "\n",
    "turns['loc_category'] = turns['location'].apply(categorize_location)"
   ],
   "metadata": {
    "collapsed": false,
    "ExecuteTime": {
     "start_time": "2023-12-05T09:58:41.690893Z",
     "end_time": "2023-12-05T09:58:45.021328Z"
    }
   }
  },
  {
   "cell_type": "code",
   "execution_count": 204,
   "outputs": [
    {
     "data": {
      "text/plain": "nickname\nBetterBot    13\nstevy        14\nName: loc_category, dtype: int64"
     },
     "execution_count": 204,
     "metadata": {},
     "output_type": "execute_result"
    }
   ],
   "source": [
    "turns[turns['game_id'] == 1].groupby('nickname').loc_category.count()"
   ],
   "metadata": {
    "collapsed": false,
    "ExecuteTime": {
     "start_time": "2023-12-05T10:00:49.121682Z",
     "end_time": "2023-12-05T10:00:49.152008Z"
    }
   }
  },
  {
   "cell_type": "code",
   "execution_count": 205,
   "outputs": [],
   "source": [
    "turns['move_len'] = turns['move'].str.len()\n",
    "turns['rack_len'] = turns['rack'].str.len()\n",
    "turns['rack_usage'] = turns['move_len'] / turns['rack_len']\n",
    "\n",
    "train_test_merged = pd.concat([train, test], axis=0).sort_values('game_id')\n",
    "turns_groupby = turns.groupby(['game_id', 'nickname']).agg(\n",
    "    mean_points=('points', 'mean'),\n",
    "    max_points=('points', 'max'),\n",
    "    min_points=('points', 'min'),\n",
    "    num_moves=('move', 'count'),\n",
    "    mean_move_len=('move_len', 'mean'),\n",
    "    max_move_len=('move_len', 'max'),\n",
    "    min_move_len=('move_len', 'min'),\n",
    "    mean_rack_len=('rack_len', 'mean'),\n",
    "    max_rack_len=('rack_len', 'max'),\n",
    "    min_rack_len=('rack_len', 'min'),\n",
    "    mean_rack_usage=('rack_usage', 'mean'),\n",
    "    max_rack_usage=('rack_usage', 'max'),\n",
    "    min_rack_usage=('rack_usage', 'min'),\n",
    "    num_special_loc=('loc_category', 'sum')).reset_index()\n",
    "\n",
    "full_df = pd.merge(pd.merge(train_test_merged, turns_groupby), games)\n",
    "\n",
    "full_df[\"created_at\"] = pd.to_datetime(full_df[\"created_at\"])\n",
    "full_df['score_per_move'] = full_df['score'] / full_df['num_moves']\n",
    "full_df[\"created_at_month\"] = full_df[\"created_at\"].dt.month\n",
    "full_df[\"created_at_day\"] = full_df[\"created_at\"].dt.day\n",
    "full_df[\"created_at_hour\"] = full_df[\"created_at\"].dt.hour\n",
    "full_df[\"created_at_day_of_week\"] = full_df[\"created_at\"].dt.dayofweek\n",
    "\n",
    "\n",
    "def is_first_winner(first, winner):\n",
    "    bot_names = ['BetterBot', 'STEEBot', 'HastyBot']\n",
    "    if (first in bot_names and winner == 0) or (first not in bot_names and winner == 1):\n",
    "        return 1\n",
    "    return 0\n",
    "\n",
    "le = LabelEncoder()\n",
    "full_df['is_first_winner'] = full_df.apply(lambda x: is_first_winner(x['first'], x['winner']), axis=1)\n",
    "new_full_df = pd.get_dummies(full_df,\n",
    "                             columns=['initial_time_seconds', 'time_control_name', 'game_end_reason', 'lexicon',\n",
    "                                      'increment_seconds', 'rating_mode', 'max_overtime_minutes']).drop(\n",
    "    ['nickname', 'created_at', 'first'], axis=1)"
   ],
   "metadata": {
    "collapsed": false,
    "ExecuteTime": {
     "start_time": "2023-12-05T10:00:59.842322Z",
     "end_time": "2023-12-05T10:01:03.690324Z"
    }
   }
  },
  {
   "cell_type": "code",
   "execution_count": 206,
   "outputs": [
    {
     "data": {
      "text/plain": "        game_id   nickname  score  rating  mean_points  max_points  \\\n0             1  BetterBot    335  1637.0    25.769231          68   \n1             1      stevy    429  1500.0    30.642857          98   \n2             2  BetterBot    401  2000.0    33.416667          85   \n3             2      Super    488     NaN    34.857143          94   \n4             3  BetterBot    318  2071.0    24.461538          76   \n...         ...        ...    ...     ...          ...         ...   \n145541    72771   HastyBot    393  1614.0    26.200000          93   \n145542    72772  BetterBot    442  1674.0    31.571429          81   \n145543    72772  Gtowngrad    388  1364.0    24.250000          67   \n145544    72773   HastyBot    346  2302.0    24.714286          39   \n145545    72773      adola    383  2075.0    31.916667          90   \n\n        min_points  num_moves  mean_move_len  max_move_len  ...  \\\n0                8         13       4.615385           8.0  ...   \n1                2         14       3.857143           7.0  ...   \n2                8         12       5.250000           8.0  ...   \n3                0         14       4.357143           8.0  ...   \n4                0         13       4.384615           8.0  ...   \n...            ...        ...            ...           ...  ...   \n145541           0         15       3.933333           7.0  ...   \n145542           9         14       4.571429           8.0  ...   \n145543           4         16       3.562500           8.0  ...   \n145544           4         14       4.214286           6.0  ...   \n145545           5         12       4.333333           7.0  ...   \n\n        increment_seconds  rating_mode  max_overtime_minutes  \\\n0                       0       CASUAL                     1   \n1                       0       CASUAL                     1   \n2                       0        RATED                     1   \n3                       0        RATED                     1   \n4                       0        RATED                     5   \n...                   ...          ...                   ...   \n145541                  0       CASUAL                    10   \n145542                  0        RATED                     1   \n145543                  0        RATED                     1   \n145544                  0        RATED                     1   \n145545                  0        RATED                     1   \n\n        game_duration_seconds  score_per_move  created_at_month  \\\n0                  674.844274       25.769231                 8   \n1                  674.844274       30.642857                 8   \n2                  364.214418       33.416667                 8   \n3                  364.214418       34.857143                 8   \n4                  492.268262       24.461538                 9   \n...                       ...             ...               ...   \n145541             236.133634       26.200000                 9   \n145542             681.370077       31.571429                 8   \n145543             681.370077       24.250000                 8   \n145544             719.720262       24.714286                 8   \n145545             719.720262       31.916667                 8   \n\n        created_at_day  created_at_hour created_at_day_of_week is_first_winner  \n0                   26                3                      4               0  \n1                   26                3                      4               0  \n2                   10               19                      2               1  \n3                   10               19                      2               1  \n4                    4                8                      6               0  \n...                ...              ...                    ...             ...  \n145541              19                3                      0               1  \n145542              31               15                      2               0  \n145543              31               15                      2               0  \n145544              27                9                      5               0  \n145545              27                9                      5               0  \n\n[145546 rows x 35 columns]",
      "text/html": "<div>\n<style scoped>\n    .dataframe tbody tr th:only-of-type {\n        vertical-align: middle;\n    }\n\n    .dataframe tbody tr th {\n        vertical-align: top;\n    }\n\n    .dataframe thead th {\n        text-align: right;\n    }\n</style>\n<table border=\"1\" class=\"dataframe\">\n  <thead>\n    <tr style=\"text-align: right;\">\n      <th></th>\n      <th>game_id</th>\n      <th>nickname</th>\n      <th>score</th>\n      <th>rating</th>\n      <th>mean_points</th>\n      <th>max_points</th>\n      <th>min_points</th>\n      <th>num_moves</th>\n      <th>mean_move_len</th>\n      <th>max_move_len</th>\n      <th>...</th>\n      <th>increment_seconds</th>\n      <th>rating_mode</th>\n      <th>max_overtime_minutes</th>\n      <th>game_duration_seconds</th>\n      <th>score_per_move</th>\n      <th>created_at_month</th>\n      <th>created_at_day</th>\n      <th>created_at_hour</th>\n      <th>created_at_day_of_week</th>\n      <th>is_first_winner</th>\n    </tr>\n  </thead>\n  <tbody>\n    <tr>\n      <th>0</th>\n      <td>1</td>\n      <td>BetterBot</td>\n      <td>335</td>\n      <td>1637.0</td>\n      <td>25.769231</td>\n      <td>68</td>\n      <td>8</td>\n      <td>13</td>\n      <td>4.615385</td>\n      <td>8.0</td>\n      <td>...</td>\n      <td>0</td>\n      <td>CASUAL</td>\n      <td>1</td>\n      <td>674.844274</td>\n      <td>25.769231</td>\n      <td>8</td>\n      <td>26</td>\n      <td>3</td>\n      <td>4</td>\n      <td>0</td>\n    </tr>\n    <tr>\n      <th>1</th>\n      <td>1</td>\n      <td>stevy</td>\n      <td>429</td>\n      <td>1500.0</td>\n      <td>30.642857</td>\n      <td>98</td>\n      <td>2</td>\n      <td>14</td>\n      <td>3.857143</td>\n      <td>7.0</td>\n      <td>...</td>\n      <td>0</td>\n      <td>CASUAL</td>\n      <td>1</td>\n      <td>674.844274</td>\n      <td>30.642857</td>\n      <td>8</td>\n      <td>26</td>\n      <td>3</td>\n      <td>4</td>\n      <td>0</td>\n    </tr>\n    <tr>\n      <th>2</th>\n      <td>2</td>\n      <td>BetterBot</td>\n      <td>401</td>\n      <td>2000.0</td>\n      <td>33.416667</td>\n      <td>85</td>\n      <td>8</td>\n      <td>12</td>\n      <td>5.250000</td>\n      <td>8.0</td>\n      <td>...</td>\n      <td>0</td>\n      <td>RATED</td>\n      <td>1</td>\n      <td>364.214418</td>\n      <td>33.416667</td>\n      <td>8</td>\n      <td>10</td>\n      <td>19</td>\n      <td>2</td>\n      <td>1</td>\n    </tr>\n    <tr>\n      <th>3</th>\n      <td>2</td>\n      <td>Super</td>\n      <td>488</td>\n      <td>NaN</td>\n      <td>34.857143</td>\n      <td>94</td>\n      <td>0</td>\n      <td>14</td>\n      <td>4.357143</td>\n      <td>8.0</td>\n      <td>...</td>\n      <td>0</td>\n      <td>RATED</td>\n      <td>1</td>\n      <td>364.214418</td>\n      <td>34.857143</td>\n      <td>8</td>\n      <td>10</td>\n      <td>19</td>\n      <td>2</td>\n      <td>1</td>\n    </tr>\n    <tr>\n      <th>4</th>\n      <td>3</td>\n      <td>BetterBot</td>\n      <td>318</td>\n      <td>2071.0</td>\n      <td>24.461538</td>\n      <td>76</td>\n      <td>0</td>\n      <td>13</td>\n      <td>4.384615</td>\n      <td>8.0</td>\n      <td>...</td>\n      <td>0</td>\n      <td>RATED</td>\n      <td>5</td>\n      <td>492.268262</td>\n      <td>24.461538</td>\n      <td>9</td>\n      <td>4</td>\n      <td>8</td>\n      <td>6</td>\n      <td>0</td>\n    </tr>\n    <tr>\n      <th>...</th>\n      <td>...</td>\n      <td>...</td>\n      <td>...</td>\n      <td>...</td>\n      <td>...</td>\n      <td>...</td>\n      <td>...</td>\n      <td>...</td>\n      <td>...</td>\n      <td>...</td>\n      <td>...</td>\n      <td>...</td>\n      <td>...</td>\n      <td>...</td>\n      <td>...</td>\n      <td>...</td>\n      <td>...</td>\n      <td>...</td>\n      <td>...</td>\n      <td>...</td>\n      <td>...</td>\n    </tr>\n    <tr>\n      <th>145541</th>\n      <td>72771</td>\n      <td>HastyBot</td>\n      <td>393</td>\n      <td>1614.0</td>\n      <td>26.200000</td>\n      <td>93</td>\n      <td>0</td>\n      <td>15</td>\n      <td>3.933333</td>\n      <td>7.0</td>\n      <td>...</td>\n      <td>0</td>\n      <td>CASUAL</td>\n      <td>10</td>\n      <td>236.133634</td>\n      <td>26.200000</td>\n      <td>9</td>\n      <td>19</td>\n      <td>3</td>\n      <td>0</td>\n      <td>1</td>\n    </tr>\n    <tr>\n      <th>145542</th>\n      <td>72772</td>\n      <td>BetterBot</td>\n      <td>442</td>\n      <td>1674.0</td>\n      <td>31.571429</td>\n      <td>81</td>\n      <td>9</td>\n      <td>14</td>\n      <td>4.571429</td>\n      <td>8.0</td>\n      <td>...</td>\n      <td>0</td>\n      <td>RATED</td>\n      <td>1</td>\n      <td>681.370077</td>\n      <td>31.571429</td>\n      <td>8</td>\n      <td>31</td>\n      <td>15</td>\n      <td>2</td>\n      <td>0</td>\n    </tr>\n    <tr>\n      <th>145543</th>\n      <td>72772</td>\n      <td>Gtowngrad</td>\n      <td>388</td>\n      <td>1364.0</td>\n      <td>24.250000</td>\n      <td>67</td>\n      <td>4</td>\n      <td>16</td>\n      <td>3.562500</td>\n      <td>8.0</td>\n      <td>...</td>\n      <td>0</td>\n      <td>RATED</td>\n      <td>1</td>\n      <td>681.370077</td>\n      <td>24.250000</td>\n      <td>8</td>\n      <td>31</td>\n      <td>15</td>\n      <td>2</td>\n      <td>0</td>\n    </tr>\n    <tr>\n      <th>145544</th>\n      <td>72773</td>\n      <td>HastyBot</td>\n      <td>346</td>\n      <td>2302.0</td>\n      <td>24.714286</td>\n      <td>39</td>\n      <td>4</td>\n      <td>14</td>\n      <td>4.214286</td>\n      <td>6.0</td>\n      <td>...</td>\n      <td>0</td>\n      <td>RATED</td>\n      <td>1</td>\n      <td>719.720262</td>\n      <td>24.714286</td>\n      <td>8</td>\n      <td>27</td>\n      <td>9</td>\n      <td>5</td>\n      <td>0</td>\n    </tr>\n    <tr>\n      <th>145545</th>\n      <td>72773</td>\n      <td>adola</td>\n      <td>383</td>\n      <td>2075.0</td>\n      <td>31.916667</td>\n      <td>90</td>\n      <td>5</td>\n      <td>12</td>\n      <td>4.333333</td>\n      <td>7.0</td>\n      <td>...</td>\n      <td>0</td>\n      <td>RATED</td>\n      <td>1</td>\n      <td>719.720262</td>\n      <td>31.916667</td>\n      <td>8</td>\n      <td>27</td>\n      <td>9</td>\n      <td>5</td>\n      <td>0</td>\n    </tr>\n  </tbody>\n</table>\n<p>145546 rows × 35 columns</p>\n</div>"
     },
     "execution_count": 206,
     "metadata": {},
     "output_type": "execute_result"
    }
   ],
   "source": [
    "full_df"
   ],
   "metadata": {
    "collapsed": false,
    "ExecuteTime": {
     "start_time": "2023-12-05T10:01:03.692741Z",
     "end_time": "2023-12-05T10:01:03.764867Z"
    }
   }
  },
  {
   "cell_type": "code",
   "execution_count": 207,
   "outputs": [],
   "source": [
    "X_temp = new_full_df[~new_full_df['rating'].isna()].drop('game_id', axis=1)\n",
    "\n",
    "test_ids = new_full_df[new_full_df['rating'].isna()]['game_id']\n",
    "test_test = new_full_df[new_full_df['rating'].isna()].drop('game_id', axis=1)\n",
    "\n",
    "X, y = X_temp.drop('rating', axis=1), X_temp['rating']\n",
    "X_test, y_test = test_test.drop('rating', axis=1), test_test['rating']"
   ],
   "metadata": {
    "collapsed": false,
    "ExecuteTime": {
     "start_time": "2023-12-05T10:01:22.367071Z",
     "end_time": "2023-12-05T10:01:22.492346Z"
    }
   }
  },
  {
   "cell_type": "code",
   "execution_count": 212,
   "outputs": [],
   "source": [
    "def evaluate_models_with_kfold(X, y, X_test, n_splits=5):\n",
    "    models = {\n",
    "        'LinearRegression': LinearRegression(),\n",
    "        'LGBMRegressor': LGBMRegressor(verbose=-1),\n",
    "        'CatBoostRegressor': CatBoostRegressor(verbose=0, iterations=100),\n",
    "        'RandomForestRegressor': RandomForestRegressor()\n",
    "    }\n",
    "\n",
    "    kf = KFold(n_splits=n_splits, shuffle=True, random_state=42)\n",
    "    model_rmse = {name: 0 for name in models}\n",
    "    model_predictions = {name: [] for name in models}\n",
    "\n",
    "    for train_index, val_index in tqdm(kf.split(X)):\n",
    "        X_train, X_val = X.iloc[train_index], X.iloc[val_index]\n",
    "        y_train, y_val = y.iloc[train_index], y.iloc[val_index]\n",
    "\n",
    "        for name, model in models.items():\n",
    "            model.fit(X_train, y_train)\n",
    "            val_preds = model.predict(X_val)\n",
    "            rmse = mean_squared_error(y_val, val_preds, squared=False)\n",
    "            model_rmse[name] += rmse / n_splits\n",
    "            test_preds = model.predict(X_test)\n",
    "            model_predictions[name].append(test_preds)\n",
    "\n",
    "    for name in models:\n",
    "        model_predictions[name] = np.mean(model_predictions[name], axis=0)\n",
    "\n",
    "    best_model_predictions = model_predictions[min(model_rmse, key=model_rmse.get)]\n",
    "    return model_rmse, best_model_predictions, models[min(model_rmse, key=model_rmse.get)]"
   ],
   "metadata": {
    "collapsed": false,
    "ExecuteTime": {
     "start_time": "2023-12-05T10:16:37.653111Z",
     "end_time": "2023-12-05T10:16:37.675845Z"
    }
   }
  },
  {
   "cell_type": "code",
   "execution_count": null,
   "outputs": [
    {
     "name": "stderr",
     "output_type": "stream",
     "text": [
      "2it [07:10, 214.21s/it]"
     ]
    }
   ],
   "source": [
    "model_rmse, model_predictions, best_model = evaluate_models_with_kfold(X, y, X_test, n_splits=5)"
   ],
   "metadata": {
    "collapsed": false,
    "ExecuteTime": {
     "start_time": "2023-12-05T10:01:25.298181Z",
     "end_time": "2023-12-05T10:15:09.808563Z"
    },
    "pycharm": {
     "is_executing": true
    }
   }
  },
  {
   "cell_type": "code",
   "execution_count": null,
   "outputs": [],
   "source": [
    "model_rmse"
   ],
   "metadata": {
    "collapsed": false,
    "ExecuteTime": {
     "start_time": "2023-12-05T10:15:09.820069Z",
     "end_time": "2023-12-05T10:15:09.867591Z"
    },
    "pycharm": {
     "is_executing": true
    }
   }
  },
  {
   "cell_type": "code",
   "execution_count": 94,
   "outputs": [
    {
     "data": {
      "text/plain": "{'LinearRegression': 129.16682920190783,\n 'LGBMRegressor': 107.01309632852934,\n 'CatBoostRegressor': 105.3919063240607,\n 'RandomForestRegressor': 105.03277334445264}"
     },
     "execution_count": 94,
     "metadata": {},
     "output_type": "execute_result"
    }
   ],
   "source": [
    "model_rmse"
   ],
   "metadata": {
    "collapsed": false,
    "ExecuteTime": {
     "start_time": "2023-12-04T16:34:36.658465Z",
     "end_time": "2023-12-04T16:34:36.677858Z"
    }
   }
  },
  {
   "cell_type": "code",
   "execution_count": 102,
   "outputs": [
    {
     "data": {
      "text/plain": "10          28\n28          62\n32          65\n34          68\n54          93\n         ...  \n44657    72700\n44666    72706\n44669    72709\n44693    72741\n44721    72762\nName: game_id, Length: 2707, dtype: int64"
     },
     "execution_count": 102,
     "metadata": {},
     "output_type": "execute_result"
    }
   ],
   "source": [
    "casual_game_ids = test[test['nickname'].isin(casual_players)]['game_id']\n",
    "casual_game_ids"
   ],
   "metadata": {
    "collapsed": false,
    "ExecuteTime": {
     "start_time": "2023-12-04T16:36:19.223705Z",
     "end_time": "2023-12-04T16:36:19.236242Z"
    }
   }
  },
  {
   "cell_type": "code",
   "execution_count": 113,
   "outputs": [
    {
     "data": {
      "text/plain": "        game_id    rating\n3             2  2002.932\n12            7  1964.112\n20           11  1629.064\n26           14  1984.470\n53           27  2069.576\n...         ...       ...\n145518    72760  2030.818\n145521    72761  1689.808\n145523    72762  1708.794\n145534    72768  2051.436\n145536    72769  1894.070\n\n[22363 rows x 2 columns]",
      "text/html": "<div>\n<style scoped>\n    .dataframe tbody tr th:only-of-type {\n        vertical-align: middle;\n    }\n\n    .dataframe tbody tr th {\n        vertical-align: top;\n    }\n\n    .dataframe thead th {\n        text-align: right;\n    }\n</style>\n<table border=\"1\" class=\"dataframe\">\n  <thead>\n    <tr style=\"text-align: right;\">\n      <th></th>\n      <th>game_id</th>\n      <th>rating</th>\n    </tr>\n  </thead>\n  <tbody>\n    <tr>\n      <th>3</th>\n      <td>2</td>\n      <td>2002.932</td>\n    </tr>\n    <tr>\n      <th>12</th>\n      <td>7</td>\n      <td>1964.112</td>\n    </tr>\n    <tr>\n      <th>20</th>\n      <td>11</td>\n      <td>1629.064</td>\n    </tr>\n    <tr>\n      <th>26</th>\n      <td>14</td>\n      <td>1984.470</td>\n    </tr>\n    <tr>\n      <th>53</th>\n      <td>27</td>\n      <td>2069.576</td>\n    </tr>\n    <tr>\n      <th>...</th>\n      <td>...</td>\n      <td>...</td>\n    </tr>\n    <tr>\n      <th>145518</th>\n      <td>72760</td>\n      <td>2030.818</td>\n    </tr>\n    <tr>\n      <th>145521</th>\n      <td>72761</td>\n      <td>1689.808</td>\n    </tr>\n    <tr>\n      <th>145523</th>\n      <td>72762</td>\n      <td>1708.794</td>\n    </tr>\n    <tr>\n      <th>145534</th>\n      <td>72768</td>\n      <td>2051.436</td>\n    </tr>\n    <tr>\n      <th>145536</th>\n      <td>72769</td>\n      <td>1894.070</td>\n    </tr>\n  </tbody>\n</table>\n<p>22363 rows × 2 columns</p>\n</div>"
     },
     "execution_count": 113,
     "metadata": {},
     "output_type": "execute_result"
    }
   ],
   "source": [
    "submission = pd.DataFrame()\n",
    "submission[\"game_id\"] = test_ids\n",
    "submission[\"rating\"] = model_predictions\n",
    "#submission.loc[submission['game_id'].isin(casual_game_ids), 'rating'] = 1500\n",
    "submission.to_csv(\"PlayerRatingSubmission.csv\", index=False)\n",
    "submission"
   ],
   "metadata": {
    "collapsed": false,
    "ExecuteTime": {
     "start_time": "2023-12-04T16:45:43.271756Z",
     "end_time": "2023-12-04T16:45:43.347275Z"
    }
   }
  },
  {
   "cell_type": "code",
   "execution_count": 117,
   "outputs": [
    {
     "data": {
      "text/plain": "       game_id rating_mode lexicon\n27          28      CASUAL   CSW21\n61          62      CASUAL   CSW21\n64          65      CASUAL   CSW21\n67          68      CASUAL   CSW21\n92          93      CASUAL   CSW21\n...        ...         ...     ...\n72699    72700      CASUAL   NWL20\n72705    72706      CASUAL   CSW21\n72708    72709      CASUAL   CSW21\n72740    72741      CASUAL   CSW21\n72761    72762      CASUAL   NWL20\n\n[2707 rows x 3 columns]",
      "text/html": "<div>\n<style scoped>\n    .dataframe tbody tr th:only-of-type {\n        vertical-align: middle;\n    }\n\n    .dataframe tbody tr th {\n        vertical-align: top;\n    }\n\n    .dataframe thead th {\n        text-align: right;\n    }\n</style>\n<table border=\"1\" class=\"dataframe\">\n  <thead>\n    <tr style=\"text-align: right;\">\n      <th></th>\n      <th>game_id</th>\n      <th>rating_mode</th>\n      <th>lexicon</th>\n    </tr>\n  </thead>\n  <tbody>\n    <tr>\n      <th>27</th>\n      <td>28</td>\n      <td>CASUAL</td>\n      <td>CSW21</td>\n    </tr>\n    <tr>\n      <th>61</th>\n      <td>62</td>\n      <td>CASUAL</td>\n      <td>CSW21</td>\n    </tr>\n    <tr>\n      <th>64</th>\n      <td>65</td>\n      <td>CASUAL</td>\n      <td>CSW21</td>\n    </tr>\n    <tr>\n      <th>67</th>\n      <td>68</td>\n      <td>CASUAL</td>\n      <td>CSW21</td>\n    </tr>\n    <tr>\n      <th>92</th>\n      <td>93</td>\n      <td>CASUAL</td>\n      <td>CSW21</td>\n    </tr>\n    <tr>\n      <th>...</th>\n      <td>...</td>\n      <td>...</td>\n      <td>...</td>\n    </tr>\n    <tr>\n      <th>72699</th>\n      <td>72700</td>\n      <td>CASUAL</td>\n      <td>NWL20</td>\n    </tr>\n    <tr>\n      <th>72705</th>\n      <td>72706</td>\n      <td>CASUAL</td>\n      <td>CSW21</td>\n    </tr>\n    <tr>\n      <th>72708</th>\n      <td>72709</td>\n      <td>CASUAL</td>\n      <td>CSW21</td>\n    </tr>\n    <tr>\n      <th>72740</th>\n      <td>72741</td>\n      <td>CASUAL</td>\n      <td>CSW21</td>\n    </tr>\n    <tr>\n      <th>72761</th>\n      <td>72762</td>\n      <td>CASUAL</td>\n      <td>NWL20</td>\n    </tr>\n  </tbody>\n</table>\n<p>2707 rows × 3 columns</p>\n</div>"
     },
     "execution_count": 117,
     "metadata": {},
     "output_type": "execute_result"
    }
   ],
   "source": [
    "games[games['game_id'].isin(casual_game_ids)][['game_id', 'rating_mode', 'lexicon']]"
   ],
   "metadata": {
    "collapsed": false,
    "ExecuteTime": {
     "start_time": "2023-12-04T16:47:41.217831Z",
     "end_time": "2023-12-04T16:47:41.245747Z"
    }
   }
  },
  {
   "cell_type": "code",
   "execution_count": 157,
   "outputs": [
    {
     "data": {
      "text/plain": "        game_id rating_mode     nickname  rating lexicon\n1             1      CASUAL        stevy    1500   NWL20\n6             5      CASUAL        stevy    1500   NWL20\n16           12      CASUAL         BB-8    1500    ECWL\n18           13      CASUAL        Trayz    2017   CSW21\n25           17      CASUAL         BB-8    1500    ECWL\n...         ...         ...          ...     ...     ...\n100745    72707      CASUAL   proton2020    1979   CSW21\n100757    72716      CASUAL         BB-8    1500    ECWL\n100767    72724      CASUAL     Sopejohn    1845   CSW21\n100794    72756      CASUAL  Basonomia28    1719   CSW21\n100814    72771      CASUAL         BB-8    1500    ECWL\n\n[11458 rows x 5 columns]",
      "text/html": "<div>\n<style scoped>\n    .dataframe tbody tr th:only-of-type {\n        vertical-align: middle;\n    }\n\n    .dataframe tbody tr th {\n        vertical-align: top;\n    }\n\n    .dataframe thead th {\n        text-align: right;\n    }\n</style>\n<table border=\"1\" class=\"dataframe\">\n  <thead>\n    <tr style=\"text-align: right;\">\n      <th></th>\n      <th>game_id</th>\n      <th>rating_mode</th>\n      <th>nickname</th>\n      <th>rating</th>\n      <th>lexicon</th>\n    </tr>\n  </thead>\n  <tbody>\n    <tr>\n      <th>1</th>\n      <td>1</td>\n      <td>CASUAL</td>\n      <td>stevy</td>\n      <td>1500</td>\n      <td>NWL20</td>\n    </tr>\n    <tr>\n      <th>6</th>\n      <td>5</td>\n      <td>CASUAL</td>\n      <td>stevy</td>\n      <td>1500</td>\n      <td>NWL20</td>\n    </tr>\n    <tr>\n      <th>16</th>\n      <td>12</td>\n      <td>CASUAL</td>\n      <td>BB-8</td>\n      <td>1500</td>\n      <td>ECWL</td>\n    </tr>\n    <tr>\n      <th>18</th>\n      <td>13</td>\n      <td>CASUAL</td>\n      <td>Trayz</td>\n      <td>2017</td>\n      <td>CSW21</td>\n    </tr>\n    <tr>\n      <th>25</th>\n      <td>17</td>\n      <td>CASUAL</td>\n      <td>BB-8</td>\n      <td>1500</td>\n      <td>ECWL</td>\n    </tr>\n    <tr>\n      <th>...</th>\n      <td>...</td>\n      <td>...</td>\n      <td>...</td>\n      <td>...</td>\n      <td>...</td>\n    </tr>\n    <tr>\n      <th>100745</th>\n      <td>72707</td>\n      <td>CASUAL</td>\n      <td>proton2020</td>\n      <td>1979</td>\n      <td>CSW21</td>\n    </tr>\n    <tr>\n      <th>100757</th>\n      <td>72716</td>\n      <td>CASUAL</td>\n      <td>BB-8</td>\n      <td>1500</td>\n      <td>ECWL</td>\n    </tr>\n    <tr>\n      <th>100767</th>\n      <td>72724</td>\n      <td>CASUAL</td>\n      <td>Sopejohn</td>\n      <td>1845</td>\n      <td>CSW21</td>\n    </tr>\n    <tr>\n      <th>100794</th>\n      <td>72756</td>\n      <td>CASUAL</td>\n      <td>Basonomia28</td>\n      <td>1719</td>\n      <td>CSW21</td>\n    </tr>\n    <tr>\n      <th>100814</th>\n      <td>72771</td>\n      <td>CASUAL</td>\n      <td>BB-8</td>\n      <td>1500</td>\n      <td>ECWL</td>\n    </tr>\n  </tbody>\n</table>\n<p>11458 rows × 5 columns</p>\n</div>"
     },
     "execution_count": 157,
     "metadata": {},
     "output_type": "execute_result"
    }
   ],
   "source": [
    "players_only_train = games[games['game_id'].isin(train[~train['nickname'].isin(test['nickname'])]['game_id'])][\n",
    "    ['game_id', 'first', 'rating_mode', 'lexicon']]\n",
    "players_only_train = players_only_train.merge(train)[['game_id', 'rating_mode', 'nickname', 'rating', 'lexicon']]\n",
    "amount_of_game_modes_per_user_train = players_only_train.groupby(['nickname', 'rating_mode']).agg(\n",
    "    amount_of_games=('game_id', 'count')).reset_index()\n",
    "casual_players_train = amount_of_game_modes_per_user_train.groupby('nickname').filter(lambda x: all(x['rating_mode'] == 'CASUAL')).sort_values(\n",
    "    'amount_of_games', ascending=False)['nickname']\n",
    "players_only_train[players_only_train['nickname'].isin(casual_players_train)]"
   ],
   "metadata": {
    "collapsed": false,
    "ExecuteTime": {
     "start_time": "2023-12-04T17:06:02.509188Z",
     "end_time": "2023-12-04T17:06:02.699035Z"
    }
   }
  },
  {
   "cell_type": "code",
   "execution_count": 161,
   "outputs": [
    {
     "data": {
      "text/plain": "194    Goldenlamb\n226        HivinD\n486     Rexington\n359       Matt_86\n276     Kathleen3\n          ...    \n769    fariha2022\n770        fawzah\n785       guanhui\n243     Issacbruh\n0      0188889876\nName: nickname, Length: 790, dtype: object"
     },
     "execution_count": 161,
     "metadata": {},
     "output_type": "execute_result"
    }
   ],
   "source": [
    "players_only_csw = games[games['game_id'].isin(train[~train['nickname'].isin(test['nickname'])]['game_id'])][\n",
    "    ['game_id', 'first', 'rating_mode', 'lexicon']]\n",
    "players_only_csw = players_only_csw.merge(train)[['game_id', 'rating_mode', 'nickname', 'rating', 'lexicon']]\n",
    "amount_of_csw_per_user_train = players_only_csw.groupby(['nickname', 'lexicon']).agg(\n",
    "    amount_of_games=('game_id', 'count')).reset_index()\n",
    "csw_players_train = amount_of_csw_per_user_train.groupby('nickname').filter(lambda x: all(x['lexicon'] == 'CSW21')).sort_values(\n",
    "    'amount_of_games', ascending=False)['nickname']\n",
    "csw_players_train"
   ],
   "metadata": {
    "collapsed": false,
    "ExecuteTime": {
     "start_time": "2023-12-04T17:08:34.615258Z",
     "end_time": "2023-12-04T17:08:34.804286Z"
    }
   }
  },
  {
   "cell_type": "code",
   "execution_count": 174,
   "outputs": [
    {
     "data": {
      "text/plain": "       game_id    nickname  score  rating\n27935    20098  171_selene    304    1937\n95013    68561  171_selene    458    1937\n83219    60100  171_selene    274    1922\n30211    21760  171_selene    355    1937\n90029    64972  171_selene    251    1922",
      "text/html": "<div>\n<style scoped>\n    .dataframe tbody tr th:only-of-type {\n        vertical-align: middle;\n    }\n\n    .dataframe tbody tr th {\n        vertical-align: top;\n    }\n\n    .dataframe thead th {\n        text-align: right;\n    }\n</style>\n<table border=\"1\" class=\"dataframe\">\n  <thead>\n    <tr style=\"text-align: right;\">\n      <th></th>\n      <th>game_id</th>\n      <th>nickname</th>\n      <th>score</th>\n      <th>rating</th>\n    </tr>\n  </thead>\n  <tbody>\n    <tr>\n      <th>27935</th>\n      <td>20098</td>\n      <td>171_selene</td>\n      <td>304</td>\n      <td>1937</td>\n    </tr>\n    <tr>\n      <th>95013</th>\n      <td>68561</td>\n      <td>171_selene</td>\n      <td>458</td>\n      <td>1937</td>\n    </tr>\n    <tr>\n      <th>83219</th>\n      <td>60100</td>\n      <td>171_selene</td>\n      <td>274</td>\n      <td>1922</td>\n    </tr>\n    <tr>\n      <th>30211</th>\n      <td>21760</td>\n      <td>171_selene</td>\n      <td>355</td>\n      <td>1937</td>\n    </tr>\n    <tr>\n      <th>90029</th>\n      <td>64972</td>\n      <td>171_selene</td>\n      <td>251</td>\n      <td>1922</td>\n    </tr>\n  </tbody>\n</table>\n</div>"
     },
     "execution_count": 174,
     "metadata": {},
     "output_type": "execute_result"
    }
   ],
   "source": [
    "csw_casual = list(set(casual_players_train).intersection(set(csw_players_train)))\n",
    "train[train['nickname'].isin(csw_casual)].sort_values('nickname')[:5]#['game_id']"
   ],
   "metadata": {
    "collapsed": false,
    "ExecuteTime": {
     "start_time": "2023-12-04T17:13:21.872350Z",
     "end_time": "2023-12-04T17:13:21.900176Z"
    }
   }
  },
  {
   "cell_type": "code",
   "execution_count": 173,
   "outputs": [
    {
     "data": {
      "text/plain": "       game_id       first time_control_name game_end_reason  winner  \\\n20097    20098  171_selene           regular            TIME       0   \n21759    21760   BetterBot           regular        STANDARD       0   \n60099    60100   BetterBot           regular        STANDARD       0   \n64971    64972  171_selene           regular        STANDARD       0   \n68560    68561  171_selene           regular        STANDARD       1   \n\n                created_at lexicon  initial_time_seconds  increment_seconds  \\\n20097  2022-08-22 01:03:00   CSW21                  1080                  0   \n21759  2022-08-22 01:22:14   CSW21                  1080                  0   \n60099  2022-08-21 09:51:14   CSW21                  1080                  0   \n64971  2022-08-17 22:42:43   CSW21                  1080                  0   \n68560  2022-08-22 01:40:30   CSW21                  1080                  0   \n\n      rating_mode  max_overtime_minutes  game_duration_seconds  \n20097      CASUAL                     1            1142.659920  \n21759      CASUAL                     1            1077.023195  \n60099      CASUAL                     1             633.480192  \n64971      CASUAL                     1             867.213536  \n68560      CASUAL                     1             638.003902  ",
      "text/html": "<div>\n<style scoped>\n    .dataframe tbody tr th:only-of-type {\n        vertical-align: middle;\n    }\n\n    .dataframe tbody tr th {\n        vertical-align: top;\n    }\n\n    .dataframe thead th {\n        text-align: right;\n    }\n</style>\n<table border=\"1\" class=\"dataframe\">\n  <thead>\n    <tr style=\"text-align: right;\">\n      <th></th>\n      <th>game_id</th>\n      <th>first</th>\n      <th>time_control_name</th>\n      <th>game_end_reason</th>\n      <th>winner</th>\n      <th>created_at</th>\n      <th>lexicon</th>\n      <th>initial_time_seconds</th>\n      <th>increment_seconds</th>\n      <th>rating_mode</th>\n      <th>max_overtime_minutes</th>\n      <th>game_duration_seconds</th>\n    </tr>\n  </thead>\n  <tbody>\n    <tr>\n      <th>20097</th>\n      <td>20098</td>\n      <td>171_selene</td>\n      <td>regular</td>\n      <td>TIME</td>\n      <td>0</td>\n      <td>2022-08-22 01:03:00</td>\n      <td>CSW21</td>\n      <td>1080</td>\n      <td>0</td>\n      <td>CASUAL</td>\n      <td>1</td>\n      <td>1142.659920</td>\n    </tr>\n    <tr>\n      <th>21759</th>\n      <td>21760</td>\n      <td>BetterBot</td>\n      <td>regular</td>\n      <td>STANDARD</td>\n      <td>0</td>\n      <td>2022-08-22 01:22:14</td>\n      <td>CSW21</td>\n      <td>1080</td>\n      <td>0</td>\n      <td>CASUAL</td>\n      <td>1</td>\n      <td>1077.023195</td>\n    </tr>\n    <tr>\n      <th>60099</th>\n      <td>60100</td>\n      <td>BetterBot</td>\n      <td>regular</td>\n      <td>STANDARD</td>\n      <td>0</td>\n      <td>2022-08-21 09:51:14</td>\n      <td>CSW21</td>\n      <td>1080</td>\n      <td>0</td>\n      <td>CASUAL</td>\n      <td>1</td>\n      <td>633.480192</td>\n    </tr>\n    <tr>\n      <th>64971</th>\n      <td>64972</td>\n      <td>171_selene</td>\n      <td>regular</td>\n      <td>STANDARD</td>\n      <td>0</td>\n      <td>2022-08-17 22:42:43</td>\n      <td>CSW21</td>\n      <td>1080</td>\n      <td>0</td>\n      <td>CASUAL</td>\n      <td>1</td>\n      <td>867.213536</td>\n    </tr>\n    <tr>\n      <th>68560</th>\n      <td>68561</td>\n      <td>171_selene</td>\n      <td>regular</td>\n      <td>STANDARD</td>\n      <td>1</td>\n      <td>2022-08-22 01:40:30</td>\n      <td>CSW21</td>\n      <td>1080</td>\n      <td>0</td>\n      <td>CASUAL</td>\n      <td>1</td>\n      <td>638.003902</td>\n    </tr>\n  </tbody>\n</table>\n</div>"
     },
     "execution_count": 173,
     "metadata": {},
     "output_type": "execute_result"
    }
   ],
   "source": [
    "games[games['game_id'].isin([20098, 68561, 60100, 21760, 64972])]"
   ],
   "metadata": {
    "collapsed": false,
    "ExecuteTime": {
     "start_time": "2023-12-04T17:12:56.217504Z",
     "end_time": "2023-12-04T17:12:56.233902Z"
    }
   }
  }
 ],
 "metadata": {
  "kernelspec": {
   "display_name": "Python 3",
   "language": "python",
   "name": "python3"
  },
  "language_info": {
   "codemirror_mode": {
    "name": "ipython",
    "version": 2
   },
   "file_extension": ".py",
   "mimetype": "text/x-python",
   "name": "python",
   "nbconvert_exporter": "python",
   "pygments_lexer": "ipython2",
   "version": "2.7.6"
  }
 },
 "nbformat": 4,
 "nbformat_minor": 0
}
